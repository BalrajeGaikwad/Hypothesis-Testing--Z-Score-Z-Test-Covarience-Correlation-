{
  "nbformat": 4,
  "nbformat_minor": 0,
  "metadata": {
    "colab": {
      "provenance": []
    },
    "kernelspec": {
      "name": "python3",
      "display_name": "Python 3"
    },
    "language_info": {
      "name": "python"
    }
  },
  "cells": [
    {
      "cell_type": "code",
      "execution_count": null,
      "metadata": {
        "id": "yIlqHeVbircY"
      },
      "outputs": [],
      "source": []
    },
    {
      "cell_type": "markdown",
      "source": [
        "# Z Score\n",
        "\n",
        "What is Z-Score?\n",
        "A Z-score tells us how many standard deviations a data point is from the mean of the dataset. It helps to standardize data and identify outliers.\n",
        "\n",
        "\n",
        "where:\n",
        "\n",
        "X = individual data point\n",
        "μ = mean of the dataset\n",
        "σ = standard deviation of the dataset\n",
        "\n",
        "2. How to Interpret Z-Scores?\n",
        "🔹 Z = 0 → The data point is exactly at the mean.\n",
        "🔹 Z = +1 → The data point is 1 standard deviation above the mean.\n",
        "🔹 Z = -1 → The data point is 1 standard deviation below the mean.\n",
        "🔹 Z > 3 or Z < -3 → Possible outliers (depends on the dataset).\n",
        "\n",
        "3. Why Use Z-Score?\n",
        "✅ Standardization: Converts different datasets to a common scale.\n",
        "✅ Outlier Detection: Points with very high or low Z-scores might be outliers.\n",
        "✅ Probability Calculations: Used in normal distributions for probability estimation.\n",
        "✅ Feature Scaling for Machine Learning: Used in algorithms like KNN, SVM, etc.\n",
        "\n"
      ],
      "metadata": {
        "id": "UB_w8EUGi5QI"
      }
    },
    {
      "cell_type": "code",
      "source": [
        "from scipy.stats import zscore"
      ],
      "metadata": {
        "id": "O3z4rx9gi7VX"
      },
      "execution_count": 1,
      "outputs": []
    },
    {
      "cell_type": "code",
      "source": [
        "import numpy as np"
      ],
      "metadata": {
        "id": "CYAPWbVsjIbo"
      },
      "execution_count": 2,
      "outputs": []
    },
    {
      "cell_type": "code",
      "source": [
        "data=[10,20,30,40,50]\n",
        "z_score=zscore(data)\n",
        "print(z_score)"
      ],
      "metadata": {
        "colab": {
          "base_uri": "https://localhost:8080/"
        },
        "id": "AY5oWA6ZjLGE",
        "outputId": "aac53221-3760-4383-8973-74049315f1c2"
      },
      "execution_count": 3,
      "outputs": [
        {
          "output_type": "stream",
          "name": "stdout",
          "text": [
            "[-1.41421356 -0.70710678  0.          0.70710678  1.41421356]\n"
          ]
        }
      ]
    },
    {
      "cell_type": "code",
      "source": [
        "#### Mannual Method\n",
        "\n",
        "import numpy as np\n",
        "data=[10,20,30,40,50]\n",
        "mean=np.mean(data)\n",
        "std_dev=np.std(data)\n",
        "z_score=[(x-mean)/std_dev for x in data]\n",
        "print(z_score)"
      ],
      "metadata": {
        "colab": {
          "base_uri": "https://localhost:8080/"
        },
        "id": "z93o7rSfjcsC",
        "outputId": "ceb29099-102b-4233-c873-666d5515de5c"
      },
      "execution_count": 4,
      "outputs": [
        {
          "output_type": "stream",
          "name": "stdout",
          "text": [
            "[np.float64(-1.414213562373095), np.float64(-0.7071067811865475), np.float64(0.0), np.float64(0.7071067811865475), np.float64(1.414213562373095)]\n"
          ]
        }
      ]
    },
    {
      "cell_type": "code",
      "source": [],
      "metadata": {
        "id": "V0SnUBHHj7hH"
      },
      "execution_count": null,
      "outputs": []
    },
    {
      "cell_type": "markdown",
      "source": [
        "# Covariance 📊\n",
        "\n",
        "Covariance measures the direction of the relationship between two variables. It helps determine whether two variables tend to increase or decrease together.\n",
        "\n",
        " Applications of Covariance\n",
        "🔹 Stock Market Analysis (Relationship between stock prices)\n",
        "🔹 Portfolio Diversification (Helps choose assets with negative covariance)\n",
        "🔹 Machine Learning (Feature selection, PCA for dimensionality reduction)\n",
        "🔹 Economics & Finance (Finding relationships between economic indicators)"
      ],
      "metadata": {
        "id": "U9tAQPxcl8gB"
      }
    },
    {
      "cell_type": "code",
      "source": [
        "import numpy as np\n",
        "\n",
        "x=[1,2,3,4,5]\n",
        "y=[2,4,6,8,10]\n",
        "\n",
        "cov_matrix=np.cov(x, y, bias=True)\n",
        "print(\"Covariance:\", cov_matrix[0,1])"
      ],
      "metadata": {
        "colab": {
          "base_uri": "https://localhost:8080/"
        },
        "id": "jyNUbBcDmIra",
        "outputId": "8c1e965e-4e20-44b4-cb9f-741d9cf2b9e4"
      },
      "execution_count": 5,
      "outputs": [
        {
          "output_type": "stream",
          "name": "stdout",
          "text": [
            "Covariance: 4.0\n"
          ]
        }
      ]
    },
    {
      "cell_type": "code",
      "source": [
        "import pandas as pd\n",
        "\n",
        "df=pd.DataFrame({'x':[1,2,3,4,5], 'y':[2,4,6,8,20]})\n",
        "print(df.cov())"
      ],
      "metadata": {
        "colab": {
          "base_uri": "https://localhost:8080/"
        },
        "id": "nM6z_-xLmeJS",
        "outputId": "05a8d220-7008-4cbe-a032-f67d8d33998b"
      },
      "execution_count": 6,
      "outputs": [
        {
          "output_type": "stream",
          "name": "stdout",
          "text": [
            "      x     y\n",
            "x   2.5  10.0\n",
            "y  10.0  50.0\n"
          ]
        }
      ]
    },
    {
      "cell_type": "code",
      "source": [],
      "metadata": {
        "id": "W5w55lmNmtzc"
      },
      "execution_count": null,
      "outputs": []
    },
    {
      "cell_type": "markdown",
      "source": [
        "# Correlation 📊\n",
        "\n",
        "Correlation measures the strength and direction of the relationship between two variables. Unlike covariance, correlation is standardized, meaning it always falls between -1 and +1.\n",
        "\n",
        " Types of Correlation\n",
        "\n",
        "1️⃣ Pearson Correlation (Most Common) – Measures linear relationships.\n",
        "\n",
        "2️⃣ Spearman Rank Correlation – Measures monotonic relationships (useful for non-linear trends).\n",
        "\n",
        "3️⃣ Kendall’s Tau – Measures ordinal relationships (ranks)."
      ],
      "metadata": {
        "id": "d_OFaS21m5et"
      }
    },
    {
      "cell_type": "code",
      "source": [
        "import numpy as np\n",
        "\n",
        "x=[1,2,3,4,5]\n",
        "y=[2,4,6,8,10]\n",
        "\n",
        "corr_matrix=np.corrcoef(x,y)\n",
        "print(corr_matrix[0,1])"
      ],
      "metadata": {
        "colab": {
          "base_uri": "https://localhost:8080/"
        },
        "id": "1YL9o6pDnS8K",
        "outputId": "63de7188-9b5e-4d0f-cfe3-5a1c5663180d"
      },
      "execution_count": 7,
      "outputs": [
        {
          "output_type": "stream",
          "name": "stdout",
          "text": [
            "0.9999999999999999\n"
          ]
        }
      ]
    },
    {
      "cell_type": "code",
      "source": [
        "### Using Pandas\n",
        "\n",
        "from scipy.stats import pearsonr, spearmanr\n",
        "\n",
        "perarson_corr, _=pearsonr(x,y)\n",
        "spearson_corr, _=spearmanr(x,y)\n",
        "\n",
        "print(\"pearson :\", perarson_corr)\n",
        "print(\"spearson :\", spearson_corr)"
      ],
      "metadata": {
        "colab": {
          "base_uri": "https://localhost:8080/"
        },
        "id": "3JEAOVtani0j",
        "outputId": "cdf4b948-358a-49ae-9a9c-d837ae121ad9"
      },
      "execution_count": 9,
      "outputs": [
        {
          "output_type": "stream",
          "name": "stdout",
          "text": [
            "pearson : 1.0\n",
            "spearson : 0.9999999999999999\n"
          ]
        }
      ]
    },
    {
      "cell_type": "code",
      "source": [],
      "metadata": {
        "id": "k1rIb332oAQU"
      },
      "execution_count": null,
      "outputs": []
    },
    {
      "cell_type": "markdown",
      "source": [
        "# Hypothesis Testing in Python\n",
        "\n",
        "What is Hypothesis Testing?\n",
        "Hypothesis testing is a statistical method used to make decisions or inferences about a population based on a sample of data. It helps determine whether an observed effect is real or due to random chance.\n",
        "\n",
        "2. Steps in Hypothesis Testing\n",
        "1️⃣ State the Null and Alternative Hypotheses\n",
        "\n",
        "Null Hypothesis → No effect or no difference.\n",
        "\n",
        "Alternative Hypothesis → There is an effect or difference.\n",
        "\n",
        "2️⃣ Select a Significance Level\n",
        "Typically 0.05 (5%), meaning we allow a 5% chance of rejecting\n",
        "when it is true.\n",
        "\n",
        "3️⃣ Choose a Test & Compute the Test Statistic\n",
        "Based on data type and distribution, choose t-test, chi-square test, ANOVA, etc.\n",
        "\n",
        "4️⃣ Find the p-value\n",
        "If p-value < 0.05 → Reject\n",
        "\n",
        "If p-value > 0.05 → Fail to reject\n",
        "\n",
        "5️⃣ Make a Conclusion\n",
        "\n",
        "Based on p-value, conclude whether the observed effect is statistically significant.\n",
        "\n"
      ],
      "metadata": {
        "id": "sEizdwpmosCi"
      }
    },
    {
      "cell_type": "code",
      "source": [
        "### One sample t-test\n",
        "\n",
        "import numpy as np\n",
        "from scipy.stats import ttest_1samp\n",
        "\n",
        "data=[20,22,21,19,23,20,18,22,21,20]\n",
        "pop_mean=21\n",
        "\n",
        "\n",
        "t_stats, p_values=ttest_1samp(data,pop_mean)\n",
        "\n",
        "print(f\"T-statistics: {t_stats:.4f}, p-value: {p_values:.4f}\")\n",
        "\n",
        "if p_values<0.05:\n",
        "    print(\"Reject the null hypothesis\")\n",
        "else:\n",
        "    print(\"Fail to reject the null hypothesis\")"
      ],
      "metadata": {
        "colab": {
          "base_uri": "https://localhost:8080/"
        },
        "id": "B67SHPXYpI1l",
        "outputId": "45f4dfb6-9d40-49f5-a41d-93016e45996a"
      },
      "execution_count": 10,
      "outputs": [
        {
          "output_type": "stream",
          "name": "stdout",
          "text": [
            "T-statistics: -0.8402, p-value: 0.4226\n",
            "Fail to reject the null hypothesis\n"
          ]
        }
      ]
    },
    {
      "cell_type": "code",
      "source": [
        ""
      ],
      "metadata": {
        "id": "IkUl7FGap7eL"
      },
      "execution_count": null,
      "outputs": []
    },
    {
      "cell_type": "markdown",
      "source": [
        "# z test\n",
        "\n",
        "A Z-test is a statistical hypothesis test used to determine if there is a significant difference between a sample mean and a population mean when the population variance is known and the sample size is large (N>30).\n",
        "\n",
        "When to Use a Z-Test?\n",
        "\n",
        "✅ Population standard deviation (σ) is known\n",
        "\n",
        "✅ Sample size is large (30N>30)\n",
        "\n",
        "✅ Data is normally distributed (or approximately normal by Central Limit Theorem)\n",
        "\n",
        "\n"
      ],
      "metadata": {
        "id": "h3mWzzMIrDXQ"
      }
    },
    {
      "cell_type": "code",
      "source": [
        "import numpy as np\n",
        "from scipy.stats import norm\n",
        "\n",
        "sample=[180,175,170,185,190,195,178,182,176,184]\n",
        "pop_mean=175\n",
        "pop_std=10\n",
        "n=len(sample)\n",
        "\n",
        "sample_mean=np.mean(sample)\n",
        "\n",
        "z_score=(sample_mean-pop_mean)/(pop_std/np.sqrt(n))\n",
        "\n",
        "p_value=2*(1-norm.cdf(np.abs(z_score)))\n",
        "\n",
        "print(f\"Z-score: {z_score:.4f}, p-value: {p_value:.4f}\")\n",
        "\n",
        "# Conclusion\n",
        "if p_value < 0.05:\n",
        "    print(\"Reject Null Hypothesis (Significant difference)\")\n",
        "else:\n",
        "    print(\"Fail to Reject Null Hypothesis (No significant difference)\")"
      ],
      "metadata": {
        "colab": {
          "base_uri": "https://localhost:8080/"
        },
        "id": "FzhCFc7brE-p",
        "outputId": "2416b1a7-8358-4b15-c710-64a80ea8847d"
      },
      "execution_count": 12,
      "outputs": [
        {
          "output_type": "stream",
          "name": "stdout",
          "text": [
            "Z-score: 2.0555, p-value: 0.0398\n",
            "Reject Null Hypothesis (Significant difference)\n"
          ]
        }
      ]
    },
    {
      "cell_type": "code",
      "source": [],
      "metadata": {
        "id": "igfCgLfpsT_U"
      },
      "execution_count": null,
      "outputs": []
    }
  ]
}